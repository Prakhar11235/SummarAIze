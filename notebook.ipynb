{
 "cells": [
  {
   "cell_type": "code",
   "execution_count": 1,
   "metadata": {},
   "outputs": [
    {
     "name": "stderr",
     "output_type": "stream",
     "text": [
      "c:\\Users\\prakhar.parashar\\OneDrive - Blue Altair\\Desktop\\RAG_solution\\.venv\\Lib\\site-packages\\tqdm\\auto.py:21: TqdmWarning: IProgress not found. Please update jupyter and ipywidgets. See https://ipywidgets.readthedocs.io/en/stable/user_install.html\n",
      "  from .autonotebook import tqdm as notebook_tqdm\n",
      "c:\\Users\\prakhar.parashar\\OneDrive - Blue Altair\\Desktop\\RAG_solution\\.venv\\Lib\\site-packages\\langchain_mistralai\\embeddings.py:181: UserWarning: Could not download mistral tokenizer from Huggingface for calculating batch sizes. Set a Huggingface token via the HF_TOKEN environment variable to download the real tokenizer. Falling back to a dummy tokenizer that uses `len()`.\n",
      "  warnings.warn(\n"
     ]
    },
    {
     "name": "stdout",
     "output_type": "stream",
     "text": [
      "content='What do you call fake spaghetti? An impasta' additional_kwargs={} response_metadata={'token_usage': {'prompt_tokens': 7, 'total_tokens': 21, 'completion_tokens': 14}, 'model_name': 'mistral-large-latest', 'model': 'mistral-large-latest', 'finish_reason': 'stop'} id='run-820c6e8c-a95e-408b-a103-68718317187d-0' usage_metadata={'input_tokens': 7, 'output_tokens': 14, 'total_tokens': 21}\n"
     ]
    }
   ],
   "source": [
    "import os\n",
    "import getpass\n",
    "from langchain_mistralai import ChatMistralAI\n",
    "from langchain_mistralai import MistralAIEmbeddings\n",
    "\n",
    "if \"MISTRAL_API_KEY\" not in os.environ:\n",
    "    os.environ[\"MISTRAL_API_KEY\"] = getpass.getpass(\"Enter your Mistral API key: \")\n",
    "\n",
    "model=ChatMistralAI(model=\"mistral-large-latest\",temperature=1)\n",
    "embeddings = MistralAIEmbeddings()\n",
    "print(model.invoke(\"Tell me a joke\"))\n"
   ]
  },
  {
   "cell_type": "code",
   "execution_count": 2,
   "metadata": {},
   "outputs": [
    {
     "data": {
      "text/plain": [
       "'What do you call a crazy spaceman? An astro-nut'"
      ]
     },
     "execution_count": 2,
     "metadata": {},
     "output_type": "execute_result"
    }
   ],
   "source": [
    "from langchain_core.output_parsers import StrOutputParser\n",
    "parser=StrOutputParser()\n",
    "\n",
    "chain= model | parser\n",
    "chain.invoke(\"tell me a joke about space.\")"
   ]
  },
  {
   "cell_type": "code",
   "execution_count": 16,
   "metadata": {},
   "outputs": [
    {
     "data": {
      "text/plain": [
       "[Document(metadata={'source': 'RAG_DevOps.docx'}, page_content=\"Skip to main content \\n\\nClick here to return to Amazon Web Services homepage \\n\\nAbout AWS Contact Us Support \\xa0 English \\xa0 My Account \\xa0 \\n\\nSign In \\n\\nCreate an AWS Account \\n\\nClose \\n\\nProfile \\n\\nYour profile helps improve your interactions with select AWS experiences. \\n\\nLogin \\n\\nClose \\n\\nProfile \\n\\nYour profile helps improve your interactions with select AWS experiences. \\n\\nView profile \\n\\nLog out \\n\\nAmazon Q\\n\\nProducts\\n\\nSolutions\\n\\nPricing\\n\\nDocumentation\\n\\nLearn\\n\\nPartner Network\\n\\nAWS Marketplace\\n\\nCustomer Enablement\\n\\nEvents\\n\\nExplore More \\n\\nTop of Form\\n\\nBottom of Form\\n\\nClose \\n\\nعربي\\n\\nBahasa Indonesia\\n\\nDeutsch\\n\\nEnglish\\n\\nEspañol\\n\\nFrançais\\n\\nItaliano\\n\\nPortuguês\\n\\nTiếng Việt\\n\\nTürkçe\\n\\nΡусский\\n\\nไทย\\n\\n日本語\\n\\n한국어\\n\\n中文 (简体)\\n\\n中文 (繁體)\\n\\nClose \\n\\nMy Profile\\n\\nSign out of AWS Builder ID\\n\\nAWS Management Console\\n\\nAccount Settings\\n\\nBilling & Cost Management\\n\\nSecurity Credentials\\n\\nAWS Personal Health Dashboard\\n\\nClose \\n\\nSupport Center\\n\\nExpert Help\\n\\nKnowledge Center\\n\\nAWS Support Overview\\n\\nAWS re:Post\\n\\nClick here to return to Amazon Web Services homepage \\n\\nClose \\n\\nProfile \\n\\nYour profile helps improve your interactions with select AWS experiences. \\n\\nLogin \\n\\nClose \\n\\nProfile \\n\\nYour profile helps improve your interactions with select AWS experiences. \\n\\nView profile \\n\\nLog out \\n\\nClose \\n\\nProfile \\n\\nYour profile helps improve your interactions with select AWS experiences. \\n\\nView profile \\n\\nLog out \\n\\nGet Started for Free \\n\\nContact Us \\n\\nTop of Form\\n\\nBottom of Form\\n\\nProducts \\n\\nSolutions \\n\\nPricing \\n\\nIntroduction to AWS \\n\\nGetting Started \\n\\nDocumentation \\n\\nTraining and Certification \\n\\nDeveloper Center \\n\\nCustomer Success \\n\\nPartner Network \\n\\nAWS Marketplace \\n\\nSupport \\n\\nAWS re:Post \\n\\nLog into Console \\n\\nDownload the Mobile App \\n\\nDevOps on AWS \\n\\nDevOps Blog Partner Solutions Resources The Amazon Builders' Library \\n\\nHome›\\n\\nWhat is DevOps?\\n\\nWhat is DevOps?\\n\\nGet Started with AWS \\n\\nDevOps Model Defined\\n\\nDevOps is the combination of cultural philosophies, practices, and tools that increases an organization’s ability to deliver applications and services at high velocity: evolving and improving products at a faster pace than organizations using traditional software development and infrastructure management processes. This speed enables organizations to better serve their customers and compete more effectively in the market.\\n\\n\\n\\nHow DevOps Works\\n\\nUnder a DevOps model, development and operations teams are no longer “siloed.” Sometimes, these two teams are merged into a single team where the engineers work across the entire application lifecycle, from development and test to deployment to operations, and develop a range of skills not limited to a single function.\\n\\nIn some DevOps models, quality assurance and security teams may also become more tightly integrated with development and operations and throughout the application lifecycle. When security is the focus of everyone on a DevOps team, this is sometimes referred to as DevSecOps.\\n\\nThese teams use practices to automate processes that historically have been manual and slow. They use a technology stack and tooling which help them operate and evolve applications quickly and reliably. These tools also help engineers independently accomplish tasks (for example, deploying code or provisioning infrastructure) that normally would have required help from other teams, and this further increases a team’s velocity.\\n\\nLearn about AWS DevOps tooling and service \\n\\nBenefits of DevOps\\n\\nSpeed\\n\\nMove at high velocity so you can innovate for customers faster, adapt to changing markets better, and grow more efficient at driving business results. The DevOps model enables your developers and operations teams to achieve these results. For example, microservices and continuous delivery let teams take ownership of services and then release updates to them quicker. \\n\\nRapid Delivery\"),\n",
       " Document(metadata={'source': 'RAG_DevOps.docx'}, page_content='Rapid Delivery\\n\\nIncrease the frequency and pace of releases so you can innovate and improve your product faster. The quicker you can release new features and fix bugs, the faster you can respond to your customers’ needs and build competitive advantage. Continuous integration and continuous delivery are practices that automate the software release process, from build to deploy. \\n\\nContinuous delivery \\n\\nReliability\\n\\nEnsure the quality of application updates and infrastructure changes so you can reliably deliver at a more rapid pace while maintaining a positive experience for end users. Use practices like continuous integration and continuous delivery to test that each change is functional and safe. Monitoring and logging practices help you stay informed of performance in real-time. \\n\\nScale\\n\\nOperate and manage your infrastructure and development processes at scale. Automation and consistency help you manage complex or changing systems efficiently and with reduced risk. For example, infrastructure as code helps you manage your development, testing, and production environments in a repeatable and more efficient manner. \\n\\nImproved Collaboration\\n\\nBuild more effective teams under a DevOps cultural model, which emphasizes values such as ownership and accountability. Developers and operations teams collaborate closely, share many responsibilities, and combine their workflows. This reduces inefficiencies and saves time (e.g. reduced handover periods between developers and operations, writing code that takes into account the environment in which it is run). \\n\\nSecurity\\n\\nMove quickly while retaining control and preserving compliance. You can adopt a DevOps model without sacrificing security by using automated compliance policies, fine-grained controls, and configuration management techniques. For example, using infrastructure as code and policy as code, you can define and then track compliance at scale. \\n\\nWhy DevOps Matters\\n\\nSoftware and the Internet have transformed the world and its industries, from shopping to entertainment to banking. Software no longer merely supports a business; rather it becomes an integral component of every part of a business. Companies interact with their customers through software delivered as online services or applications and on all sorts of devices. They also use software to increase operational efficiencies by transforming every part of the value chain, such as logistics, communications, and operations. In a similar way that physical goods companies transformed how they design, build, and deliver products using industrial automation throughout the 20th century, companies in today’s world must transform how they build and deliver software.\\n\\nHow to Adopt a DevOps Model\\n\\nDevOps Cultural Philosophy\\n\\nTransitioning to DevOps requires a change in culture and mindset. At its simplest, DevOps is about removing the barriers between two traditionally siloed teams, development and operations. In some organizations, there may not even be separate development and operations teams; engineers may do both. With DevOps, the two teams work together to optimize both the productivity of developers and the reliability of operations. They strive to communicate frequently, increase efficiencies, and improve the quality of services they provide to customers. They take full ownership for their services, often beyond where their stated roles or titles have traditionally been scoped by thinking about the end customer’s needs and how they can contribute to solving those needs.\\xa0Quality assurance and security teams may also become tightly integrated with these teams. Organizations using a DevOps model, regardless of their organizational structure, have teams that view the entire development and infrastructure lifecycle as part of their responsibilities.\\n\\nDevOps Practices Explained'),\n",
       " Document(metadata={'source': 'RAG_DevOps.docx'}, page_content='DevOps Practices Explained\\n\\nThere are a few key practices that help organizations innovate faster through automating and streamlining the software development and infrastructure management processes. Most of these practices are accomplished with proper tooling.\\n\\nOne fundamental practice is to perform very frequent but small updates. This is how organizations innovate faster for their customers. These updates are usually more incremental in nature than the occasional updates performed under traditional release practices. Frequent but small updates make each deployment less risky. They help teams address bugs faster because teams can identify the last deployment that caused the error. Although the cadence and size of updates will vary, organizations using a DevOps model deploy updates much more often than organizations using traditional software development practices.\\n\\nOrganizations might also use a microservices architecture to make their applications more flexible and enable quicker innovation. The microservices architecture decouples large, complex systems into simple, independent projects. Applications are broken into many individual components (services) with each service scoped to a single purpose or function and operated independently of its peer services and the application as a whole. This architecture reduces the coordination overhead of updating applications, and when each service is paired with small, agile teams who take ownership of each service, organizations can move more quickly.\\n\\nHowever, the combination of microservices and increased release frequency leads to significantly more deployments which can present operational challenges. Thus, DevOps practices like continuous integration and continuous delivery solve these issues and let organizations deliver rapidly in a safe and reliable manner. Infrastructure automation practices, like infrastructure as code and configuration management, help to keep computing resources elastic and responsive to frequent changes. In addition, the use of monitoring and logging helps engineers track the performance of applications and infrastructure so they can react quickly to problems.\\n\\nTogether, these practices help organizations deliver faster, more reliable updates to their customers. Here is an overview of important DevOps practices.\\n\\nDevOps Practices\\n\\nContinuous Integration\\n\\nContinuous integration is a software development practice where developers regularly merge their code changes into a central repository, after which automated builds and tests are run. The key goals of continuous integration are to find and address bugs quicker, improve software quality, and reduce the time it takes to validate and release new software updates.\\n\\nLearn more about continuous integration\\n\\nContinuous Delivery\\n\\nContinuous delivery is a software development practice where code changes are automatically built, tested, and prepared for a release to production. It expands upon continuous integration by deploying all code changes to a testing environment and/or a production environment after the build stage. When continuous delivery is implemented properly, developers will always have a deployment-ready build artifact that has passed through a standardized test process.\\n\\nLearn more about continuous delivery and AWS CodePipeline\\n\\nMicroservices\\n\\nThe microservices architecture is a design approach to build a single application as a set of small services. Each service runs in its own process and communicates with other services through a well-defined interface using a lightweight mechanism, typically an HTTP-based application programming interface (API). Microservices are built around business capabilities; each service is scoped to a single purpose. You can use different frameworks or programming languages to write microservices and deploy them independently, as a single service, or as a group of services.\\n\\nLearn more about Amazon Container Service (Amazon ECS) \\n\\nLearn more about AWS Lambda'),\n",
       " Document(metadata={'source': 'RAG_DevOps.docx'}, page_content='Learn more about Amazon Container Service (Amazon ECS) \\n\\nLearn more about AWS Lambda\\n\\n\\xa0\\n\\nInfrastructure as Code\\n\\nInfrastructure as code is a practice in which infrastructure is provisioned and managed using code and software development techniques, such as version control and continuous integration. The cloud’s API-driven model enables developers and system administrators to interact with infrastructure programmatically, and at scale, instead of needing to manually set up and configure resources. Thus, engineers can interface with infrastructure using code-based tools and treat infrastructure in a manner similar to how they treat application code. Because they are defined by code, infrastructure and servers can quickly be deployed using standardized patterns, updated with the latest patches and versions, or duplicated in repeatable ways.\\n\\nLearn to manage your infrastructure as code with AWS CloudFormation \\n\\nConfiguration Management\\n\\nDevelopers and system administrators use code to automate operating system and host configuration, operational tasks, and more. The use of code makes configuration changes repeatable and standardized. It frees developers and systems administrators from manually configuring operating systems, system applications, or server software.\\n\\nLearn how you can configure and manage Amazon EC2 and on-premises systems with Amazon EC2 Systems Manager \\n\\nLearn to use configuration management with AWS OpsWorks\\n\\nPolicy as Code\\n\\nWith infrastructure and its configuration codified with the cloud, organizations can monitor and enforce compliance dynamically and at scale. Infrastructure that is described by code can thus be tracked, validated, and reconfigured in an automated way. This makes it easier for organizations to govern changes over resources and ensure that security measures are properly enforced in a distributed manner (e.g. information security or compliance with PCI-DSS or HIPAA). This allows teams within an organization to move at higher velocity since non-compliant resources can be automatically flagged for further investigation or even automatically brought back into compliance.\\n\\nLearn how you can use AWS Config and Config Rules to monitor and enforce compliance for your infrastructure\\n\\n\\xa0\\n\\nMonitoring and Logging\\n\\nOrganizations monitor metrics and logs to see how application and infrastructure performance impacts the experience of their product’s end user. By capturing, categorizing, and then analyzing data and logs generated by applications and infrastructure, organizations understand how changes or updates impact users, shedding insights into the root causes of problems or unexpected changes. Active monitoring becomes increasingly important as services must be available 24/7 and as application and infrastructure update frequency increases. Creating alerts or performing real-time analysis of this data also helps organizations more proactively monitor their services.\\n\\nLearn how you can use Amazon CloudWatch to monitor your infrastructure metrics and logs\\n\\nLearn how you can use AWS CloudTrail to record and log AWS API calls\\n\\n\\xa0\\n\\nCommunication and Collaboration\\n\\nIncreased communication and collaboration in an organization is one of the key cultural aspects of DevOps. The use of DevOps tooling and automation of the software delivery process establishes collaboration by physically bringing together the workflows and responsibilities of development and operations. Building on top of that, these teams set strong cultural norms around information sharing and facilitating communication through the use of chat applications, issue or project tracking systems, and wikis. This helps speed up communication across developers, operations, and even other teams like marketing or sales, allowing all parts of the organization to align more closely on goals and projects.\\n\\n\\xa0\\n\\nDevOps Tools'),\n",
       " Document(metadata={'source': 'RAG_DevOps.docx'}, page_content=\"DevOps Tools\\n\\nThe DevOps model relies on effective tooling to help teams rapidly and reliably deploy and innovate for their customers. These tools automate manual tasks, help teams manage complex environments at scale, and keep engineers in control of the high velocity that is enabled by DevOps. AWS provides services that are designed for DevOps and that are built first for use with the AWS cloud. These services help you use the DevOps practices described above.\\n\\nLearn about AWS DevOps services\\n\\nLearn about AWS partner solutions\\n\\n\\xa0\\n\\nSign In to the Console \\n\\nLearn About AWS\\n\\nWhat Is AWS?\\n\\nWhat Is Cloud Computing?\\n\\nAWS Accessibility\\n\\nWhat Is DevOps?\\n\\nWhat Is a Container?\\n\\nWhat Is a Data Lake?\\n\\nWhat is Artificial Intelligence (AI)?\\n\\nWhat is Generative AI?\\n\\nWhat is Machine Learning (ML)?\\n\\nAWS Cloud Security\\n\\nWhat's New\\n\\nBlogs\\n\\nPress Releases\\n\\nResources for AWS\\n\\nGetting Started\\n\\nTraining and Certification\\n\\nAWS Trust Center\\n\\nAWS Solutions Library\\n\\nArchitecture Center\\n\\nProduct and Technical FAQs\\n\\nAnalyst Reports\\n\\nAWS Partners\\n\\nDevelopers on AWS\\n\\nDeveloper Center\\n\\nSDKs & Tools\\n\\n.NET on AWS\\n\\nPython on AWS\\n\\nJava on AWS\\n\\nPHP on AWS\\n\\nJavaScript on AWS\\n\\nHelp\\n\\nContact Us\\n\\nGet Expert Help\\n\\nFile a Support Ticket\\n\\nAWS re:Post\\n\\nKnowledge Center\\n\\nAWS Support Overview\\n\\nLegal\\n\\nAWS Careers\\n\\nCreate an AWS Account \\n\\nAmazon is an Equal Opportunity Employer: Minority / Women / Disability / Veteran / Gender Identity / Sexual Orientation / Age. \\n\\nLanguage\\n\\nعربي\\n\\nBahasa Indonesia\\n\\nDeutsch\\n\\nEnglish\\n\\nEspañol\\n\\nFrançais\\n\\nItaliano\\n\\nPortuguês\\n\\nTiếng Việt\\n\\nTürkçe\\n\\nΡусский\\n\\nไทย\\n\\n日本語\\n\\n한국어\\n\\n中文 (简体)\\n\\n中文 (繁體)\\n\\nPrivacy\\n\\n|\\n\\nAccessibility\\n\\n|\\n\\nSite Terms\\n\\n|\\n\\nCookie Preferences \\n\\n|\\n\\n© 2025, Amazon Web Services, Inc. or its affiliates. All rights reserved.\\n\\nEnding Support for Internet Explorer\\n\\nGot it \\n\\nAWS support for Internet Explorer ends on 07/31/2022. Supported browsers are Chrome, Firefox, Edge, and Safari. Learn more » \\n\\nGot it\")]"
      ]
     },
     "execution_count": 16,
     "metadata": {},
     "output_type": "execute_result"
    }
   ],
   "source": [
    "from langchain_community.document_loaders import PyPDFLoader, TextLoader, Docx2txtLoader\n",
    "\n",
    "doc_file=input(\"Enter the file name along with it's extension:\")\n",
    "if doc_file.endswith(\".pdf\"):\n",
    "    loader=PyPDFLoader(doc_file)\n",
    "elif doc_file.endswith(\".docx\"):\n",
    "    loader=Docx2txtLoader(doc_file)\n",
    "elif doc_file.endswith(\".txt\") or doc_file.endswith(\".md\"):\n",
    "    loader=TextLoader(doc_file)  \n",
    "else: \n",
    "    print(f\"Document type {doc_file.type} not supported.\")          \n",
    "\n",
    "pages=loader.load_and_split()\n",
    "pages"
   ]
  },
  {
   "cell_type": "code",
   "execution_count": 8,
   "metadata": {},
   "outputs": [
    {
     "name": "stdout",
     "output_type": "stream",
     "text": [
      "Based on the provided context, Pune is getting hotter. So, it is hot.\n"
     ]
    }
   ],
   "source": [
    "from langchain import PromptTemplate\n",
    "\n",
    "custom_instruction = \"\"\"\n",
    "You are a helpful AI assistant. Answer the questions based on the provided context.\n",
    "If you don't know the answer, reply with \"I don't know.\"\n",
    "\n",
    "Context: {context}\n",
    "Question: {question}\n",
    "\"\"\"\n",
    "\n",
    "# Create a single prompt template with the instruction included\n",
    "prompt = PromptTemplate.from_template(custom_instruction)\n",
    "\n",
    "chain = prompt | model | parser\n",
    "\n",
    "print(chain.invoke({\"context\": \"Pune is getting hotter day by day\", \"question\": \"is pune cool or hot?\"}))\n",
    "\n"
   ]
  },
  {
   "cell_type": "code",
   "execution_count": 9,
   "metadata": {},
   "outputs": [
    {
     "name": "stderr",
     "output_type": "stream",
     "text": [
      "c:\\Users\\prakhar.parashar\\OneDrive - Blue Altair\\Desktop\\RAG_solution\\.venv\\Lib\\site-packages\\pydantic\\_migration.py:283: UserWarning: `pydantic.error_wrappers:ValidationError` has been moved to `pydantic:ValidationError`.\n",
      "  warnings.warn(f'`{import_path}` has been moved to `{new_location}`.')\n"
     ]
    }
   ],
   "source": [
    "from langchain_community.vectorstores import DocArrayInMemorySearch\n",
    "\n",
    "vectorstore=DocArrayInMemorySearch.from_documents(pages,embedding=embeddings)"
   ]
  },
  {
   "cell_type": "code",
   "execution_count": null,
   "metadata": {},
   "outputs": [
    {
     "data": {
      "text/plain": [
       "[Document(metadata={'source': 'BA - DevOps Assignment - Prakhar Parashar.docx'}, page_content='DEVOPS ASSIGNMENT\\n\\nTask:\\n\\nYou are tasked with automating the build & deployment of a website.\\n\\nUse any free hosting service (GitHub Pages, Netlify, or Vercel).\\n\\n\\n\\nPre-requisites:\\n\\nA website to deploy\\n\\n\\n\\n\\n\\n\\n\\n\\n\\nStep-by-step instructions:\\n\\nLog in to GitHub and create a new repository where we will store the static website\\n\\nOpen VS Code and in the terminal Use the “git add .” command to get all new and modified files for commit. This makes sure we have all files.\\n\\n\\n\\n\\n\\nBefore Committing we have to set up the profile using:\\ngit config --global user.email  “parasharprakhar.1123@gmail.com”\\ngit config --global user.name \"Prakhar11235\" ,\\n\\n\\n\\nCommit the changes with an understandable message.\\n\\n\\n\\nPush the files to repository using “git push origin main”\\n\\n\\n\\nGenerate a Vercel Access Token and Configure GitHub Secrets\\n\\n    Create an access token in Vercel by navigating to Settings > Tokens., Copy the token.\\n\\n    Go to GitHub Repository > Settings > Secrets and variables > Actions > Repository secrets.\\n\\n    Click New repository secret, name it as VERCEL_TOKEN, and paste the copied access token.\\n\\n     This will connect GitHub to Vercel.\\n\\n\\n\\n\\n\\n\\n\\n\\n\\nThe YML file for automation where we write the script which makes sure that every time we make changes and push it, the site will be redeployed.\\n\\n\\n\\n\\n\\n\\n\\nPush a Test Change to Verify Deployment\\n\\nMake small changes in html file, commit and push the changes, in github actions we can see the progress of deployment. Once done navigate to the Vercel Dashboard and visit the website to check If the changes done reflect or not.\\n\\n\\n\\n\\n\\n\\n\\n\\n\\n\\n\\n\\n\\nLOGS:')]"
      ]
     },
     "execution_count": 11,
     "metadata": {},
     "output_type": "execute_result"
    }
   ],
   "source": [
    "retriever=vectorstore.as_retriever()\n",
    "# retriever.invoke(\"Andrew Tate\")"
   ]
  },
  {
   "cell_type": "code",
   "execution_count": 15,
   "metadata": {},
   "outputs": [
    {
     "data": {
      "text/plain": [
       "'Vercel access tokens are security credentials that allow you to connect your GitHub repository to Vercel for continuous deployment. These tokens act as a form of authentication, enabling Vercel to access and deploy updates from your repository automatically. In the context provided, you create an access token in Vercel by navigating to Settings > Tokens, and then you use this token to configure a GitHub secret named `VERCEL_TOKEN`. This process ensures that any changes pushed to your GitHub repository trigger an automated deployment to Vercel.'"
      ]
     },
     "execution_count": 15,
     "metadata": {},
     "output_type": "execute_result"
    }
   ],
   "source": [
    "from operator import itemgetter\n",
    "\n",
    "chain=(\n",
    "    {\n",
    "        \"context\": itemgetter(\"question\") | retriever,\n",
    "        \"question\": itemgetter(\"question\")\n",
    "    }\n",
    "    | prompt\n",
    "    | model\n",
    "    |parser\n",
    ")\n",
    "\n",
    "chain.invoke({\"question\":\"what are vercel access tokens?\"})"
   ]
  }
 ],
 "metadata": {
  "kernelspec": {
   "display_name": ".venv",
   "language": "python",
   "name": "python3"
  },
  "language_info": {
   "codemirror_mode": {
    "name": "ipython",
    "version": 3
   },
   "file_extension": ".py",
   "mimetype": "text/x-python",
   "name": "python",
   "nbconvert_exporter": "python",
   "pygments_lexer": "ipython3",
   "version": "3.13.2"
  }
 },
 "nbformat": 4,
 "nbformat_minor": 2
}
